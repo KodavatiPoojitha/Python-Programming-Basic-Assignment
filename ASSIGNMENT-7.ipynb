{
 "cells": [
  {
   "cell_type": "code",
   "execution_count": 1,
   "id": "26567dd1",
   "metadata": {},
   "outputs": [
    {
     "name": "stdout",
     "output_type": "stream",
     "text": [
      "1 2 3 4 5\n",
      "15\n"
     ]
    }
   ],
   "source": [
    "a=list(map(int,input().split()))\n",
    "print(sum(a))"
   ]
  },
  {
   "cell_type": "code",
   "execution_count": 2,
   "id": "796cad59",
   "metadata": {},
   "outputs": [
    {
     "name": "stdout",
     "output_type": "stream",
     "text": [
      "5 6 1 3 90 7878\n",
      "7878\n"
     ]
    }
   ],
   "source": [
    "a=list(map(int,input().split()))\n",
    "print(max(a))"
   ]
  },
  {
   "cell_type": "code",
   "execution_count": 4,
   "id": "fdebe1b8",
   "metadata": {},
   "outputs": [
    {
     "name": "stdout",
     "output_type": "stream",
     "text": [
      "1 2 3 4 5 6 7 8 9\n",
      "2\n",
      "3 4 5 6 7 8 9 1 2\n"
     ]
    }
   ],
   "source": [
    "a=list(map(int,input().split()))\n",
    "n=len(a)\n",
    "d=int(input())\n",
    "print(*(a[d:n]+a[0:d]))"
   ]
  },
  {
   "cell_type": "code",
   "execution_count": 5,
   "id": "4539891e",
   "metadata": {},
   "outputs": [
    {
     "name": "stdout",
     "output_type": "stream",
     "text": [
      "1 2 3 4 5 6 7 8 9\n",
      "4\n",
      "6 7 8 9 1 2 3 4 5\n"
     ]
    }
   ],
   "source": [
    "a=list(map(int,input().split()))\n",
    "n=len(a)\n",
    "d=int(input())\n",
    "print(*(a[n-d:]+a[0:n-d]))"
   ]
  },
  {
   "cell_type": "code",
   "execution_count": 11,
   "id": "9277414c",
   "metadata": {},
   "outputs": [
    {
     "name": "stdout",
     "output_type": "stream",
     "text": [
      "2 4 6 8\n",
      "False\n"
     ]
    }
   ],
   "source": [
    "a=list(map(int,input().split()))\n",
    "n=len(a)\n",
    "if n==1:\n",
    "    print(True)\n",
    "else:\n",
    "    if all(a[i]>=a[i+1] for i in range(n-1) or a[i]<=a[i+1] for i in range(n-1)):\n",
    "        print(True)\n",
    "    else:\n",
    "        print(False)"
   ]
  },
  {
   "cell_type": "code",
   "execution_count": null,
   "id": "82e12688",
   "metadata": {},
   "outputs": [],
   "source": []
  }
 ],
 "metadata": {
  "kernelspec": {
   "display_name": "Python 3 (ipykernel)",
   "language": "python",
   "name": "python3"
  },
  "language_info": {
   "codemirror_mode": {
    "name": "ipython",
    "version": 3
   },
   "file_extension": ".py",
   "mimetype": "text/x-python",
   "name": "python",
   "nbconvert_exporter": "python",
   "pygments_lexer": "ipython3",
   "version": "3.9.7"
  }
 },
 "nbformat": 4,
 "nbformat_minor": 5
}
