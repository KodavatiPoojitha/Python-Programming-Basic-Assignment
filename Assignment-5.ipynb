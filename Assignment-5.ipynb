{
 "cells": [
  {
   "cell_type": "code",
   "execution_count": 2,
   "id": "6b379d3f",
   "metadata": {},
   "outputs": [
    {
     "name": "stdout",
     "output_type": "stream",
     "text": [
      "6\n",
      "9\n"
     ]
    },
    {
     "data": {
      "text/plain": [
       "18"
      ]
     },
     "execution_count": 2,
     "metadata": {},
     "output_type": "execute_result"
    }
   ],
   "source": [
    "def lcm(n,m):\n",
    "    if n>m:\n",
    "        g=n\n",
    "    else:\n",
    "        g=m\n",
    "    while True:\n",
    "        if g%n==0 and g%m==0:\n",
    "            lcm=g\n",
    "            break\n",
    "        g+=1\n",
    "    return lcm\n",
    "lcm(int(input()),int(input()))"
   ]
  },
  {
   "cell_type": "code",
   "execution_count": 6,
   "id": "fb9fbbfc",
   "metadata": {},
   "outputs": [
    {
     "name": "stdout",
     "output_type": "stream",
     "text": [
      "54\n",
      "24\n"
     ]
    },
    {
     "data": {
      "text/plain": [
       "6"
      ]
     },
     "execution_count": 6,
     "metadata": {},
     "output_type": "execute_result"
    }
   ],
   "source": [
    "def gcd(n,m):\n",
    "    if n>m:\n",
    "        s=n\n",
    "    else:\n",
    "        s=m\n",
    "    for i in range(1,s+1):\n",
    "        if n%i==0 and m%i==0:\n",
    "            gcd=i\n",
    "    return gcd\n",
    "gcd(int(input()),int(input()))"
   ]
  },
  {
   "cell_type": "code",
   "execution_count": 16,
   "id": "1a16b07e",
   "metadata": {},
   "outputs": [
    {
     "name": "stdout",
     "output_type": "stream",
     "text": [
      "33\n",
      "0100001\n",
      "0o41\n",
      "0x21\n"
     ]
    }
   ],
   "source": [
    "def binary(n):\n",
    "    if n>=1:\n",
    "        binary(n//2)\n",
    "    print(n%2,end='')\n",
    "def octal(n):\n",
    "    print()\n",
    "    print(oct(n))\n",
    "def hexadecimal(n):\n",
    "    print(hex(n))\n",
    "n=int(input())\n",
    "binary(n)\n",
    "octal(n)\n",
    "hexadecimal(n)"
   ]
  },
  {
   "cell_type": "code",
   "execution_count": 17,
   "id": "936f7c5e",
   "metadata": {},
   "outputs": [
    {
     "name": "stdout",
     "output_type": "stream",
     "text": [
      "A\n",
      "65\n"
     ]
    }
   ],
   "source": [
    "s=input()\n",
    "print(ord(s))"
   ]
  },
  {
   "cell_type": "code",
   "execution_count": 18,
   "id": "8fb7c12d",
   "metadata": {},
   "outputs": [
    {
     "name": "stdout",
     "output_type": "stream",
     "text": [
      "2\n",
      "4\n",
      "+\n",
      "6\n"
     ]
    }
   ],
   "source": [
    "a,b=int(input()),int(input())\n",
    "op=input()\n",
    "if op=='+':\n",
    "    print(a+b)\n",
    "elif op=='-':\n",
    "    print(a-b)\n",
    "elif op=='*':\n",
    "    print(a*b)\n",
    "elif op=='/':\n",
    "    print(a/b)\n",
    "elif op=='%':\n",
    "    print(a%b)\n",
    "elif op=='//':\n",
    "    print(a//b)"
   ]
  }
 ],
 "metadata": {
  "kernelspec": {
   "display_name": "Python 3 (ipykernel)",
   "language": "python",
   "name": "python3"
  },
  "language_info": {
   "codemirror_mode": {
    "name": "ipython",
    "version": 3
   },
   "file_extension": ".py",
   "mimetype": "text/x-python",
   "name": "python",
   "nbconvert_exporter": "python",
   "pygments_lexer": "ipython3",
   "version": "3.9.7"
  }
 },
 "nbformat": 4,
 "nbformat_minor": 5
}
